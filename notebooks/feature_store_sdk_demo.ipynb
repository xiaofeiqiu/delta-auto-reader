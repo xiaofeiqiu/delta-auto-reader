{
 "cells": [
  {
   "cell_type": "markdown",
   "id": "1",
   "metadata": {},
   "source": [
    "# Feature Store SDK Demo\n",
    "\n",
    "This notebook demonstrates the complete functionality of our custom Feature Store SDK.\n",
    "\n",
    "## Features:\n",
    "- ✅ Delta Lake storage format\n",
    "- ✅ Automatic joins between feature groups\n",
    "- ✅ Precise feature selection via projections\n",
    "- ✅ Multiple output formats: Spark, Pandas, Polars\n",
    "- ✅ Simple API without over-engineering"
   ]
  },
  {
   "cell_type": "markdown",
   "id": "2",
   "metadata": {},
   "source": [
    "## Setup and Imports"
   ]
  },
  {
   "cell_type": "code",
   "execution_count": 1,
   "id": "3",
   "metadata": {},
   "outputs": [
    {
     "name": "stdout",
     "output_type": "stream",
     "text": [
      "📦 All imports successful!\n"
     ]
    }
   ],
   "source": [
    "import os\n",
    "import sys\n",
    "import pandas as pd\n",
    "import polars as pl\n",
    "from pyspark.sql import SparkSession\n",
    "from delta import configure_spark_with_delta_pip\n",
    "\n",
    "# Add the parent directory to Python path to import our SDK\n",
    "sys.path.append('/workspace')\n",
    "from feature_store_sdk import FeatureStore, projection\n",
    "\n",
    "print(\"📦 All imports successful!\")"
   ]
  },
  {
   "cell_type": "markdown",
   "id": "4",
   "metadata": {},
   "source": [
    "## Initialize Spark with Delta Lake"
   ]
  },
  {
   "cell_type": "code",
   "execution_count": 2,
   "id": "5",
   "metadata": {},
   "outputs": [
    {
     "name": "stdout",
     "output_type": "stream",
     "text": [
      ":: loading settings :: url = jar:file:/opt/spark/jars/ivy-2.5.1.jar!/org/apache/ivy/core/settings/ivysettings.xml\n"
     ]
    },
    {
     "name": "stderr",
     "output_type": "stream",
     "text": [
      "Ivy Default Cache set to: /root/.ivy2/cache\n",
      "The jars for the packages stored in: /root/.ivy2/jars\n",
      "io.delta#delta-core_2.12 added as a dependency\n",
      ":: resolving dependencies :: org.apache.spark#spark-submit-parent-33ccb19c-68f4-466c-99f7-873b0e03f892;1.0\n",
      "\tconfs: [default]\n",
      "\tfound io.delta#delta-core_2.12;2.4.0 in central\n",
      "\tfound io.delta#delta-storage;2.4.0 in central\n",
      "\tfound org.antlr#antlr4-runtime;4.9.3 in central\n",
      "downloading https://repo1.maven.org/maven2/io/delta/delta-core_2.12/2.4.0/delta-core_2.12-2.4.0.jar ...\n",
      "\t[SUCCESSFUL ] io.delta#delta-core_2.12;2.4.0!delta-core_2.12.jar (141ms)\n",
      "downloading https://repo1.maven.org/maven2/io/delta/delta-storage/2.4.0/delta-storage-2.4.0.jar ...\n",
      "\t[SUCCESSFUL ] io.delta#delta-storage;2.4.0!delta-storage.jar (17ms)\n",
      "downloading https://repo1.maven.org/maven2/org/antlr/antlr4-runtime/4.9.3/antlr4-runtime-4.9.3.jar ...\n",
      "\t[SUCCESSFUL ] org.antlr#antlr4-runtime;4.9.3!antlr4-runtime.jar (31ms)\n",
      ":: resolution report :: resolve 416ms :: artifacts dl 192ms\n",
      "\t:: modules in use:\n",
      "\tio.delta#delta-core_2.12;2.4.0 from central in [default]\n",
      "\tio.delta#delta-storage;2.4.0 from central in [default]\n",
      "\torg.antlr#antlr4-runtime;4.9.3 from central in [default]\n",
      "\t---------------------------------------------------------------------\n",
      "\t|                  |            modules            ||   artifacts   |\n",
      "\t|       conf       | number| search|dwnlded|evicted|| number|dwnlded|\n",
      "\t---------------------------------------------------------------------\n",
      "\t|      default     |   3   |   3   |   3   |   0   ||   3   |   3   |\n",
      "\t---------------------------------------------------------------------\n",
      ":: retrieving :: org.apache.spark#spark-submit-parent-33ccb19c-68f4-466c-99f7-873b0e03f892\n",
      "\tconfs: [default]\n",
      "\t3 artifacts copied, 0 already retrieved (4537kB/5ms)\n",
      "25/08/10 02:35:28 WARN NativeCodeLoader: Unable to load native-hadoop library for your platform... using builtin-java classes where applicable\n",
      "Setting default log level to \"WARN\".\n",
      "To adjust logging level use sc.setLogLevel(newLevel). For SparkR, use setLogLevel(newLevel).\n"
     ]
    },
    {
     "name": "stdout",
     "output_type": "stream",
     "text": [
      "✅ Spark 3.4.4 initialized with Delta Lake support\n",
      "🌐 Spark UI: http://localhost:4040\n"
     ]
    }
   ],
   "source": [
    "# Initialize Spark with Delta Lake support\n",
    "builder = SparkSession.builder.appName(\"FeatureStoreSDKDemo\") \\\n",
    "    .config(\"spark.sql.extensions\", \"io.delta.sql.DeltaSparkSessionExtension\") \\\n",
    "    .config(\"spark.sql.catalog.spark_catalog\", \"org.apache.spark.sql.delta.catalog.DeltaCatalog\")\n",
    "\n",
    "spark = configure_spark_with_delta_pip(builder).getOrCreate()\n",
    "spark.sparkContext.setLogLevel(\"WARN\")\n",
    "\n",
    "print(f\"✅ Spark {spark.version} initialized with Delta Lake support\")\n",
    "print(f\"🌐 Spark UI: http://localhost:4040\")"
   ]
  },
  {
   "cell_type": "markdown",
   "id": "6",
   "metadata": {},
   "source": [
    "## Create Sample Business Data\n",
    "\n",
    "Let's create realistic business data for our feature store demo."
   ]
  },
  {
   "cell_type": "code",
   "execution_count": 3,
   "id": "7",
   "metadata": {},
   "outputs": [
    {
     "name": "stdout",
     "output_type": "stream",
     "text": [
      "📊 Creating sample business data...\n",
      "📋 Created 6 accounts\n",
      "👥 Created 6 user profiles\n",
      "💳 Created 6 transaction profiles\n",
      "⚠️ Created 6 risk assessments\n",
      "\n",
      "📊 Sample accounts data:\n",
      "  account_id  user_id account_type    status   opened_at  credit_limit\n",
      "0     ACC001  USER001      PREMIUM    ACTIVE  2023-01-15         10000\n",
      "1     ACC002  USER002     STANDARD    ACTIVE  2023-02-20          5000\n",
      "2     ACC003  USER003      PREMIUM  INACTIVE  2023-03-10         15000\n",
      "\n",
      "👥 Sample users data:\n",
      "   user_id  age   segment country      city income_bracket signup_date\n",
      "0  USER001   25   PREMIUM      US  New York           HIGH  2022-12-01\n",
      "1  USER002   34  STANDARD      UK    London         MEDIUM  2023-01-15\n",
      "2  USER003   28   PREMIUM      CA   Toronto           HIGH  2023-02-01\n"
     ]
    }
   ],
   "source": [
    "# Create sample business data\n",
    "print(\"📊 Creating sample business data...\")\n",
    "\n",
    "# Customer accounts data\n",
    "accounts_data = pd.DataFrame({\n",
    "    'account_id': ['ACC001', 'ACC002', 'ACC003', 'ACC004', 'ACC005', 'ACC006'],\n",
    "    'user_id': ['USER001', 'USER002', 'USER003', 'USER004', 'USER005', 'USER006'],\n",
    "    'account_type': ['PREMIUM', 'STANDARD', 'PREMIUM', 'GOLD', 'STANDARD', 'GOLD'],\n",
    "    'status': ['ACTIVE', 'ACTIVE', 'INACTIVE', 'ACTIVE', 'ACTIVE', 'SUSPENDED'],\n",
    "    'opened_at': ['2023-01-15', '2023-02-20', '2023-03-10', '2023-04-05', '2023-05-12', '2023-06-01'],\n",
    "    'credit_limit': [10000, 5000, 15000, 25000, 3000, 20000]\n",
    "})\n",
    "\n",
    "# User profile data\n",
    "users_data = pd.DataFrame({\n",
    "    'user_id': ['USER001', 'USER002', 'USER003', 'USER004', 'USER005', 'USER006'],\n",
    "    'age': [25, 34, 28, 45, 33, 39],\n",
    "    'segment': ['PREMIUM', 'STANDARD', 'PREMIUM', 'GOLD', 'STANDARD', 'GOLD'],\n",
    "    'country': ['US', 'UK', 'CA', 'US', 'DE', 'FR'],\n",
    "    'city': ['New York', 'London', 'Toronto', 'San Francisco', 'Berlin', 'Paris'],\n",
    "    'income_bracket': ['HIGH', 'MEDIUM', 'HIGH', 'VERY_HIGH', 'MEDIUM', 'HIGH'],\n",
    "    'signup_date': ['2022-12-01', '2023-01-15', '2023-02-01', '2022-11-15', '2023-04-01', '2023-05-20']\n",
    "})\n",
    "\n",
    "# Transaction profile data (aggregated features)\n",
    "transactions_data = pd.DataFrame({\n",
    "    'account_id': ['ACC001', 'ACC002', 'ACC003', 'ACC004', 'ACC005', 'ACC006'],\n",
    "    'last_txn_ts': ['2024-01-15 10:30:00', '2024-01-14 15:45:00', '2023-12-20 09:15:00', \n",
    "                   '2024-01-16 14:20:00', '2024-01-15 11:55:00', '2024-01-13 16:30:00'],\n",
    "    'avg_ticket': [125.50, 89.75, 245.30, 67.80, 156.25, 301.40],\n",
    "    'txn_cnt_30d': [8, 5, 1, 12, 7, 15],\n",
    "    'txn_cnt_90d': [15, 8, 2, 22, 12, 28],\n",
    "    'total_spend_90d': [1882.5, 718.0, 490.6, 1491.6, 1875.0, 8439.2],\n",
    "    'distinct_merchants_90d': [8, 5, 2, 12, 7, 16]\n",
    "})\n",
    "\n",
    "# Risk scores (additional feature group)\n",
    "risk_data = pd.DataFrame({\n",
    "    'account_id': ['ACC001', 'ACC002', 'ACC003', 'ACC004', 'ACC005', 'ACC006'],\n",
    "    'credit_score': [750, 680, 720, 800, 650, 780],\n",
    "    'fraud_score': [0.05, 0.12, 0.03, 0.01, 0.08, 0.02],\n",
    "    'risk_category': ['LOW', 'MEDIUM', 'LOW', 'VERY_LOW', 'MEDIUM', 'LOW'],\n",
    "    'last_risk_assessment': ['2024-01-10', '2024-01-12', '2023-12-15', '2024-01-14', '2024-01-11', '2024-01-09']\n",
    "})\n",
    "\n",
    "print(f\"📋 Created {len(accounts_data)} accounts\")\n",
    "print(f\"👥 Created {len(users_data)} user profiles\") \n",
    "print(f\"💳 Created {len(transactions_data)} transaction profiles\")\n",
    "print(f\"⚠️ Created {len(risk_data)} risk assessments\")\n",
    "\n",
    "# Display sample data\n",
    "print(\"\\n📊 Sample accounts data:\")\n",
    "print(accounts_data.head(3))\n",
    "print(\"\\n👥 Sample users data:\")\n",
    "print(users_data.head(3))"
   ]
  },
  {
   "cell_type": "markdown",
   "id": "8",
   "metadata": {},
   "source": [
    "## Save Data as Delta Tables"
   ]
  },
  {
   "cell_type": "code",
   "execution_count": 4,
   "id": "9",
   "metadata": {},
   "outputs": [
    {
     "name": "stdout",
     "output_type": "stream",
     "text": [
      "💾 Saving data to Delta Lake at: /workspace/data/feature_store_demo\n"
     ]
    },
    {
     "name": "stderr",
     "output_type": "stream",
     "text": [
      "25/08/10 02:35:32 WARN package: Truncated the string representation of a plan since it was too large. This behavior can be adjusted by setting 'spark.sql.debug.maxToStringFields'.\n",
      "                                                                                \r"
     ]
    },
    {
     "name": "stdout",
     "output_type": "stream",
     "text": [
      "✅ Accounts saved\n",
      "✅ Users saved\n",
      "✅ Transaction profiles saved\n",
      "✅ Risk scores saved\n",
      "\n",
      "🎉 All data successfully saved in Delta Lake format!\n"
     ]
    }
   ],
   "source": [
    "# Save all data as Delta Lake tables\n",
    "base_path = \"/workspace/data/feature_store_demo\"\n",
    "print(f\"💾 Saving data to Delta Lake at: {base_path}\")\n",
    "\n",
    "# Convert to Spark DataFrames and save\n",
    "accounts_df = spark.createDataFrame(accounts_data)\n",
    "accounts_df.write.format(\"delta\").mode(\"overwrite\").save(f\"{base_path}/accounts\")\n",
    "print(\"✅ Accounts saved\")\n",
    "\n",
    "users_df = spark.createDataFrame(users_data)  \n",
    "users_df.write.format(\"delta\").mode(\"overwrite\").save(f\"{base_path}/users\")\n",
    "print(\"✅ Users saved\")\n",
    "\n",
    "transactions_df = spark.createDataFrame(transactions_data)\n",
    "transactions_df.write.format(\"delta\").mode(\"overwrite\").save(f\"{base_path}/transactions_profile\")\n",
    "print(\"✅ Transaction profiles saved\")\n",
    "\n",
    "risk_df = spark.createDataFrame(risk_data)\n",
    "risk_df.write.format(\"delta\").mode(\"overwrite\").save(f\"{base_path}/risk_scores\")\n",
    "print(\"✅ Risk scores saved\")\n",
    "\n",
    "print(\"\\n🎉 All data successfully saved in Delta Lake format!\")"
   ]
  },
  {
   "cell_type": "markdown",
   "id": "10",
   "metadata": {},
   "source": [
    "## Initialize Feature Store SDK\n",
    "\n",
    "Now let's use our SDK to create feature groups and feature views."
   ]
  },
  {
   "cell_type": "code",
   "execution_count": 5,
   "id": "11",
   "metadata": {},
   "outputs": [
    {
     "name": "stdout",
     "output_type": "stream",
     "text": [
      "✅ Feature Store initialized\n",
      "\n",
      "📊 Creating feature groups...\n",
      "✅ BatchFeatureGroup(name='accounts', version=1, keys=['account_id'], location='/workspace/data/feature_store_demo/accounts')\n",
      "✅ BatchFeatureGroup(name='users', version=1, keys=['user_id'], location='/workspace/data/feature_store_demo/users')\n",
      "✅ BatchFeatureGroup(name='transactions_profile', version=1, keys=['account_id'], location='/workspace/data/feature_store_demo/transactions_profile')\n",
      "✅ BatchFeatureGroup(name='risk_scores', version=1, keys=['account_id'], location='/workspace/data/feature_store_demo/risk_scores')\n",
      "\n",
      "🎯 All feature groups created successfully!\n"
     ]
    }
   ],
   "source": [
    "# Initialize Feature Store\n",
    "fs = FeatureStore(spark=spark)\n",
    "print(\"✅ Feature Store initialized\")\n",
    "\n",
    "# Create feature groups with explicit data locations\n",
    "print(\"\\n📊 Creating feature groups...\")\n",
    "\n",
    "accounts_fg = fs.get_or_create_batch_feature_group(\n",
    "    name=\"accounts\", \n",
    "    version=1, \n",
    "    keys=[\"account_id\"],\n",
    "    data_location=f\"{base_path}/accounts\",\n",
    "    description=\"Customer account information\"\n",
    ")\n",
    "print(f\"✅ {accounts_fg}\")\n",
    "\n",
    "users_fg = fs.get_or_create_batch_feature_group(\n",
    "    name=\"users\", \n",
    "    version=1, \n",
    "    keys=[\"user_id\"],\n",
    "    data_location=f\"{base_path}/users\",\n",
    "    description=\"User demographic and profile data\"\n",
    ")\n",
    "print(f\"✅ {users_fg}\")\n",
    "\n",
    "transactions_fg = fs.get_or_create_batch_feature_group(\n",
    "    name=\"transactions_profile\", \n",
    "    version=1, \n",
    "    keys=[\"account_id\"],\n",
    "    data_location=f\"{base_path}/transactions_profile\",\n",
    "    description=\"Aggregated transaction features per account\"\n",
    ")\n",
    "print(f\"✅ {transactions_fg}\")\n",
    "\n",
    "risk_fg = fs.get_or_create_batch_feature_group(\n",
    "    name=\"risk_scores\", \n",
    "    version=1, \n",
    "    keys=[\"account_id\"],\n",
    "    data_location=f\"{base_path}/risk_scores\",\n",
    "    description=\"Risk assessment scores and categories\"\n",
    ")\n",
    "print(f\"✅ {risk_fg}\")\n",
    "\n",
    "print(\"\\n🎯 All feature groups created successfully!\")"
   ]
  },
  {
   "cell_type": "markdown",
   "id": "12",
   "metadata": {},
   "source": [
    "## Test 1: Basic Feature Selection\n",
    "\n",
    "Test that we can select specific features from individual feature groups."
   ]
  },
  {
   "cell_type": "code",
   "execution_count": 6,
   "id": "13",
   "metadata": {},
   "outputs": [
    {
     "name": "stdout",
     "output_type": "stream",
     "text": [
      "🧪 Test 1: Basic Feature Selection\n",
      "========================================\n",
      "📋 Columns returned: ['account_id', 'status', 'account_type']\n",
      "📊 Expected: ['account_id', 'status', 'account_type']\n",
      "✅ Feature selection working: True\n",
      "📈 Row count: 6\n",
      "\n",
      "📊 Sample data:\n",
      "  account_id     status account_type\n",
      "0     ACC003   INACTIVE      PREMIUM\n",
      "1     ACC002     ACTIVE     STANDARD\n",
      "2     ACC005     ACTIVE     STANDARD\n",
      "3     ACC006  SUSPENDED         GOLD\n",
      "4     ACC001     ACTIVE      PREMIUM\n"
     ]
    }
   ],
   "source": [
    "print(\"🧪 Test 1: Basic Feature Selection\")\n",
    "print(\"=\" * 40)\n",
    "\n",
    "# Create a simple feature view with only specific features\n",
    "basic_fv = fs.get_or_create_feature_view(\n",
    "    name=\"basic_account_features\", \n",
    "    version=1, \n",
    "    base=accounts_fg,\n",
    "    source_projections=[\n",
    "        projection(\n",
    "            source=accounts_fg,\n",
    "            features=[\"account_id\", \"status\", \"account_type\"]  # Only these 3 features\n",
    "        )\n",
    "    ],\n",
    "    description=\"Basic account features - minimal set\"\n",
    ")\n",
    "\n",
    "# Test the query\n",
    "result = basic_fv.plan().to_pandas()\n",
    "print(f\"📋 Columns returned: {list(result.columns)}\")\n",
    "print(f\"📊 Expected: ['account_id', 'status', 'account_type']\")\n",
    "print(f\"✅ Feature selection working: {set(result.columns) == {'account_id', 'status', 'account_type'}}\")\n",
    "print(f\"📈 Row count: {len(result)}\")\n",
    "\n",
    "print(\"\\n📊 Sample data:\")\n",
    "print(result.head())"
   ]
  },
  {
   "cell_type": "markdown",
   "id": "14",
   "metadata": {},
   "source": [
    "## Test 2: Multi-Table Join with Feature Selection\n",
    "\n",
    "Test automatic joins between multiple feature groups with precise feature selection."
   ]
  },
  {
   "cell_type": "code",
   "execution_count": 7,
   "id": "15",
   "metadata": {},
   "outputs": [
    {
     "name": "stdout",
     "output_type": "stream",
     "text": [
      "🧪 Test 2: Multi-Table Join with Feature Selection\n",
      "==================================================\n"
     ]
    },
    {
     "name": "stderr",
     "output_type": "stream",
     "text": [
      "25/08/10 02:35:37 WARN Column: Constructing trivially true equals predicate, ''user_id = 'user_id'. Perhaps you need to use aliases.\n"
     ]
    },
    {
     "ename": "AnalysisException",
     "evalue": "[AMBIGUOUS_REFERENCE] Reference `user_id` is ambiguous, could be: [`user_id`, `user_id`].",
     "output_type": "error",
     "traceback": [
      "\u001b[0;31m---------------------------------------------------------------------------\u001b[0m",
      "\u001b[0;31mAnalysisException\u001b[0m                         Traceback (most recent call last)",
      "Cell \u001b[0;32mIn[7], line 41\u001b[0m\n\u001b[1;32m      5\u001b[0m comprehensive_fv \u001b[38;5;241m=\u001b[39m fs\u001b[38;5;241m.\u001b[39mget_or_create_feature_view(\n\u001b[1;32m      6\u001b[0m     name\u001b[38;5;241m=\u001b[39m\u001b[38;5;124m\"\u001b[39m\u001b[38;5;124mcomprehensive_features\u001b[39m\u001b[38;5;124m\"\u001b[39m, \n\u001b[1;32m      7\u001b[0m     version\u001b[38;5;241m=\u001b[39m\u001b[38;5;241m1\u001b[39m, \n\u001b[0;32m   (...)\u001b[0m\n\u001b[1;32m     37\u001b[0m     description\u001b[38;5;241m=\u001b[39m\u001b[38;5;124m\"\u001b[39m\u001b[38;5;124mComprehensive account features with user, transaction, and risk data\u001b[39m\u001b[38;5;124m\"\u001b[39m\n\u001b[1;32m     38\u001b[0m )\n\u001b[1;32m     40\u001b[0m \u001b[38;5;66;03m# Test the comprehensive query\u001b[39;00m\n\u001b[0;32m---> 41\u001b[0m result \u001b[38;5;241m=\u001b[39m \u001b[43mcomprehensive_fv\u001b[49m\u001b[38;5;241;43m.\u001b[39;49m\u001b[43mplan\u001b[49m\u001b[43m(\u001b[49m\u001b[43m)\u001b[49m\u001b[38;5;241;43m.\u001b[39;49m\u001b[43mto_pandas\u001b[49m\u001b[43m(\u001b[49m\u001b[43m)\u001b[49m\n\u001b[1;32m     42\u001b[0m \u001b[38;5;28mprint\u001b[39m(\u001b[38;5;124mf\u001b[39m\u001b[38;5;124m\"\u001b[39m\u001b[38;5;124m📋 Columns returned: \u001b[39m\u001b[38;5;132;01m{\u001b[39;00m\u001b[38;5;28mlist\u001b[39m(result\u001b[38;5;241m.\u001b[39mcolumns)\u001b[38;5;132;01m}\u001b[39;00m\u001b[38;5;124m\"\u001b[39m)\n\u001b[1;32m     43\u001b[0m \u001b[38;5;28mprint\u001b[39m(\u001b[38;5;124mf\u001b[39m\u001b[38;5;124m\"\u001b[39m\u001b[38;5;124m📊 Total features: \u001b[39m\u001b[38;5;132;01m{\u001b[39;00m\u001b[38;5;28mlen\u001b[39m(result\u001b[38;5;241m.\u001b[39mcolumns)\u001b[38;5;132;01m}\u001b[39;00m\u001b[38;5;124m\"\u001b[39m)\n",
      "File \u001b[0;32m/workspace/feature_store_sdk/query_plan.py:55\u001b[0m, in \u001b[0;36mQueryPlan.to_pandas\u001b[0;34m(self)\u001b[0m\n\u001b[1;32m     48\u001b[0m \u001b[38;5;28;01mdef\u001b[39;00m\u001b[38;5;250m \u001b[39m\u001b[38;5;21mto_pandas\u001b[39m(\u001b[38;5;28mself\u001b[39m) \u001b[38;5;241m-\u001b[39m\u001b[38;5;241m>\u001b[39m pd\u001b[38;5;241m.\u001b[39mDataFrame:\n\u001b[1;32m     49\u001b[0m \u001b[38;5;250m    \u001b[39m\u001b[38;5;124;03m\"\"\"\u001b[39;00m\n\u001b[1;32m     50\u001b[0m \u001b[38;5;124;03m    Get result as Pandas DataFrame\u001b[39;00m\n\u001b[1;32m     51\u001b[0m \u001b[38;5;124;03m    \u001b[39;00m\n\u001b[1;32m     52\u001b[0m \u001b[38;5;124;03m    Returns:\u001b[39;00m\n\u001b[1;32m     53\u001b[0m \u001b[38;5;124;03m        Pandas DataFrame\u001b[39;00m\n\u001b[1;32m     54\u001b[0m \u001b[38;5;124;03m    \"\"\"\u001b[39;00m\n\u001b[0;32m---> 55\u001b[0m     spark_df \u001b[38;5;241m=\u001b[39m \u001b[38;5;28;43mself\u001b[39;49m\u001b[38;5;241;43m.\u001b[39;49m\u001b[43m_execute\u001b[49m\u001b[43m(\u001b[49m\u001b[43m)\u001b[49m\n\u001b[1;32m     56\u001b[0m     \u001b[38;5;28;01mreturn\u001b[39;00m spark_df\u001b[38;5;241m.\u001b[39mtoPandas()\n",
      "File \u001b[0;32m/workspace/feature_store_sdk/query_plan.py:36\u001b[0m, in \u001b[0;36mQueryPlan._execute\u001b[0;34m(self)\u001b[0m\n\u001b[1;32m     29\u001b[0m \u001b[38;5;250m\u001b[39m\u001b[38;5;124;03m\"\"\"\u001b[39;00m\n\u001b[1;32m     30\u001b[0m \u001b[38;5;124;03mExecute the query plan and cache result\u001b[39;00m\n\u001b[1;32m     31\u001b[0m \u001b[38;5;124;03m\u001b[39;00m\n\u001b[1;32m     32\u001b[0m \u001b[38;5;124;03mReturns:\u001b[39;00m\n\u001b[1;32m     33\u001b[0m \u001b[38;5;124;03m    Spark DataFrame\u001b[39;00m\n\u001b[1;32m     34\u001b[0m \u001b[38;5;124;03m\"\"\"\u001b[39;00m\n\u001b[1;32m     35\u001b[0m \u001b[38;5;28;01mif\u001b[39;00m \u001b[38;5;28mself\u001b[39m\u001b[38;5;241m.\u001b[39m_result_df \u001b[38;5;129;01mis\u001b[39;00m \u001b[38;5;28;01mNone\u001b[39;00m:\n\u001b[0;32m---> 36\u001b[0m     \u001b[38;5;28mself\u001b[39m\u001b[38;5;241m.\u001b[39m_result_df \u001b[38;5;241m=\u001b[39m \u001b[38;5;28;43mself\u001b[39;49m\u001b[38;5;241;43m.\u001b[39;49m\u001b[43mfeature_view\u001b[49m\u001b[38;5;241;43m.\u001b[39;49m\u001b[43m_build_query\u001b[49m\u001b[43m(\u001b[49m\u001b[43m)\u001b[49m\n\u001b[1;32m     37\u001b[0m \u001b[38;5;28;01mreturn\u001b[39;00m \u001b[38;5;28mself\u001b[39m\u001b[38;5;241m.\u001b[39m_result_df\n",
      "File \u001b[0;32m/workspace/feature_store_sdk/feature_view.py:73\u001b[0m, in \u001b[0;36mFeatureView._build_query\u001b[0;34m(self)\u001b[0m\n\u001b[1;32m     71\u001b[0m \u001b[38;5;28;01mfor\u001b[39;00m projection \u001b[38;5;129;01min\u001b[39;00m \u001b[38;5;28mself\u001b[39m\u001b[38;5;241m.\u001b[39msource_projections:\n\u001b[1;32m     72\u001b[0m     \u001b[38;5;28;01mif\u001b[39;00m projection\u001b[38;5;241m.\u001b[39msource \u001b[38;5;241m!=\u001b[39m \u001b[38;5;28mself\u001b[39m\u001b[38;5;241m.\u001b[39mbase:\n\u001b[0;32m---> 73\u001b[0m         result_df \u001b[38;5;241m=\u001b[39m \u001b[38;5;28;43mself\u001b[39;49m\u001b[38;5;241;43m.\u001b[39;49m\u001b[43m_join_projection\u001b[49m\u001b[43m(\u001b[49m\u001b[43mresult_df\u001b[49m\u001b[43m,\u001b[49m\u001b[43m \u001b[49m\u001b[43mprojection\u001b[49m\u001b[43m)\u001b[49m\n\u001b[1;32m     75\u001b[0m \u001b[38;5;66;03m# Handle base table projection (select only specified features)\u001b[39;00m\n\u001b[1;32m     76\u001b[0m base_projections \u001b[38;5;241m=\u001b[39m [p \u001b[38;5;28;01mfor\u001b[39;00m p \u001b[38;5;129;01min\u001b[39;00m \u001b[38;5;28mself\u001b[39m\u001b[38;5;241m.\u001b[39msource_projections \u001b[38;5;28;01mif\u001b[39;00m p\u001b[38;5;241m.\u001b[39msource \u001b[38;5;241m==\u001b[39m \u001b[38;5;28mself\u001b[39m\u001b[38;5;241m.\u001b[39mbase]\n",
      "File \u001b[0;32m/workspace/feature_store_sdk/feature_view.py:158\u001b[0m, in \u001b[0;36mFeatureView._join_projection\u001b[0;34m(self, left_df, projection)\u001b[0m\n\u001b[1;32m    155\u001b[0m right_df_selected \u001b[38;5;241m=\u001b[39m right_df\u001b[38;5;241m.\u001b[39mselect(\u001b[38;5;241m*\u001b[39mright_select_cols)\n\u001b[1;32m    157\u001b[0m \u001b[38;5;66;03m# Perform join\u001b[39;00m\n\u001b[0;32m--> 158\u001b[0m joined_df \u001b[38;5;241m=\u001b[39m \u001b[43mleft_df\u001b[49m\u001b[38;5;241;43m.\u001b[39;49m\u001b[43mjoin\u001b[49m\u001b[43m(\u001b[49m\u001b[43mright_df_selected\u001b[49m\u001b[43m,\u001b[49m\u001b[43m \u001b[49m\u001b[43mjoin_condition\u001b[49m\u001b[43m,\u001b[49m\u001b[43m \u001b[49m\u001b[43mprojection\u001b[49m\u001b[38;5;241;43m.\u001b[39;49m\u001b[43mjoin_type\u001b[49m\u001b[43m)\u001b[49m\n\u001b[1;32m    160\u001b[0m \u001b[38;5;66;03m# Drop duplicate join key columns from the right side\u001b[39;00m\n\u001b[1;32m    161\u001b[0m \u001b[38;5;28;01mfor\u001b[39;00m right_key \u001b[38;5;129;01min\u001b[39;00m right_join_keys:\n\u001b[1;32m    162\u001b[0m     \u001b[38;5;66;03m# Check if this column exists in both sides and drop the right side duplicate\u001b[39;00m\n",
      "File \u001b[0;32m/opt/spark/python/pyspark/sql/dataframe.py:2346\u001b[0m, in \u001b[0;36mDataFrame.join\u001b[0;34m(self, other, on, how)\u001b[0m\n\u001b[1;32m   2344\u001b[0m         on \u001b[38;5;241m=\u001b[39m \u001b[38;5;28mself\u001b[39m\u001b[38;5;241m.\u001b[39m_jseq([])\n\u001b[1;32m   2345\u001b[0m     \u001b[38;5;28;01massert\u001b[39;00m \u001b[38;5;28misinstance\u001b[39m(how, \u001b[38;5;28mstr\u001b[39m), \u001b[38;5;124m\"\u001b[39m\u001b[38;5;124mhow should be a string\u001b[39m\u001b[38;5;124m\"\u001b[39m\n\u001b[0;32m-> 2346\u001b[0m     jdf \u001b[38;5;241m=\u001b[39m \u001b[38;5;28;43mself\u001b[39;49m\u001b[38;5;241;43m.\u001b[39;49m\u001b[43m_jdf\u001b[49m\u001b[38;5;241;43m.\u001b[39;49m\u001b[43mjoin\u001b[49m\u001b[43m(\u001b[49m\u001b[43mother\u001b[49m\u001b[38;5;241;43m.\u001b[39;49m\u001b[43m_jdf\u001b[49m\u001b[43m,\u001b[49m\u001b[43m \u001b[49m\u001b[43mon\u001b[49m\u001b[43m,\u001b[49m\u001b[43m \u001b[49m\u001b[43mhow\u001b[49m\u001b[43m)\u001b[49m\n\u001b[1;32m   2347\u001b[0m \u001b[38;5;28;01mreturn\u001b[39;00m DataFrame(jdf, \u001b[38;5;28mself\u001b[39m\u001b[38;5;241m.\u001b[39msparkSession)\n",
      "File \u001b[0;32m/usr/local/lib/python3.9/dist-packages/py4j/java_gateway.py:1322\u001b[0m, in \u001b[0;36mJavaMember.__call__\u001b[0;34m(self, *args)\u001b[0m\n\u001b[1;32m   1316\u001b[0m command \u001b[38;5;241m=\u001b[39m proto\u001b[38;5;241m.\u001b[39mCALL_COMMAND_NAME \u001b[38;5;241m+\u001b[39m\\\n\u001b[1;32m   1317\u001b[0m     \u001b[38;5;28mself\u001b[39m\u001b[38;5;241m.\u001b[39mcommand_header \u001b[38;5;241m+\u001b[39m\\\n\u001b[1;32m   1318\u001b[0m     args_command \u001b[38;5;241m+\u001b[39m\\\n\u001b[1;32m   1319\u001b[0m     proto\u001b[38;5;241m.\u001b[39mEND_COMMAND_PART\n\u001b[1;32m   1321\u001b[0m answer \u001b[38;5;241m=\u001b[39m \u001b[38;5;28mself\u001b[39m\u001b[38;5;241m.\u001b[39mgateway_client\u001b[38;5;241m.\u001b[39msend_command(command)\n\u001b[0;32m-> 1322\u001b[0m return_value \u001b[38;5;241m=\u001b[39m \u001b[43mget_return_value\u001b[49m\u001b[43m(\u001b[49m\n\u001b[1;32m   1323\u001b[0m \u001b[43m    \u001b[49m\u001b[43manswer\u001b[49m\u001b[43m,\u001b[49m\u001b[43m \u001b[49m\u001b[38;5;28;43mself\u001b[39;49m\u001b[38;5;241;43m.\u001b[39;49m\u001b[43mgateway_client\u001b[49m\u001b[43m,\u001b[49m\u001b[43m \u001b[49m\u001b[38;5;28;43mself\u001b[39;49m\u001b[38;5;241;43m.\u001b[39;49m\u001b[43mtarget_id\u001b[49m\u001b[43m,\u001b[49m\u001b[43m \u001b[49m\u001b[38;5;28;43mself\u001b[39;49m\u001b[38;5;241;43m.\u001b[39;49m\u001b[43mname\u001b[49m\u001b[43m)\u001b[49m\n\u001b[1;32m   1325\u001b[0m \u001b[38;5;28;01mfor\u001b[39;00m temp_arg \u001b[38;5;129;01min\u001b[39;00m temp_args:\n\u001b[1;32m   1326\u001b[0m     \u001b[38;5;28;01mif\u001b[39;00m \u001b[38;5;28mhasattr\u001b[39m(temp_arg, \u001b[38;5;124m\"\u001b[39m\u001b[38;5;124m_detach\u001b[39m\u001b[38;5;124m\"\u001b[39m):\n",
      "File \u001b[0;32m/opt/spark/python/pyspark/errors/exceptions/captured.py:175\u001b[0m, in \u001b[0;36mcapture_sql_exception.<locals>.deco\u001b[0;34m(*a, **kw)\u001b[0m\n\u001b[1;32m    171\u001b[0m converted \u001b[38;5;241m=\u001b[39m convert_exception(e\u001b[38;5;241m.\u001b[39mjava_exception)\n\u001b[1;32m    172\u001b[0m \u001b[38;5;28;01mif\u001b[39;00m \u001b[38;5;129;01mnot\u001b[39;00m \u001b[38;5;28misinstance\u001b[39m(converted, UnknownException):\n\u001b[1;32m    173\u001b[0m     \u001b[38;5;66;03m# Hide where the exception came from that shows a non-Pythonic\u001b[39;00m\n\u001b[1;32m    174\u001b[0m     \u001b[38;5;66;03m# JVM exception message.\u001b[39;00m\n\u001b[0;32m--> 175\u001b[0m     \u001b[38;5;28;01mraise\u001b[39;00m converted \u001b[38;5;28;01mfrom\u001b[39;00m\u001b[38;5;250m \u001b[39m\u001b[38;5;28;01mNone\u001b[39;00m\n\u001b[1;32m    176\u001b[0m \u001b[38;5;28;01melse\u001b[39;00m:\n\u001b[1;32m    177\u001b[0m     \u001b[38;5;28;01mraise\u001b[39;00m\n",
      "\u001b[0;31mAnalysisException\u001b[0m: [AMBIGUOUS_REFERENCE] Reference `user_id` is ambiguous, could be: [`user_id`, `user_id`]."
     ]
    }
   ],
   "source": [
    "print(\"🧪 Test 2: Multi-Table Join with Feature Selection\")\n",
    "print(\"=\" * 50)\n",
    "\n",
    "# Create comprehensive feature view with joins\n",
    "comprehensive_fv = fs.get_or_create_feature_view(\n",
    "    name=\"comprehensive_features\", \n",
    "    version=1, \n",
    "    base=accounts_fg,\n",
    "    source_projections=[\n",
    "        # Base account features\n",
    "        projection(\n",
    "            source=accounts_fg,\n",
    "            features=[\"account_id\", \"user_id\", \"status\", \"account_type\", \"credit_limit\"]\n",
    "        ),\n",
    "        # User demographics - join on user_id\n",
    "        projection(\n",
    "            source=users_fg,\n",
    "            features=[\"age\", \"segment\", \"country\", \"income_bracket\"],\n",
    "            keys_map={\"user_id\": \"user_id\"},\n",
    "            join_type=\"left\"\n",
    "        ),\n",
    "        # Transaction features - join on account_id\n",
    "        projection(\n",
    "            source=transactions_fg,\n",
    "            features=[\"avg_ticket\", \"txn_cnt_90d\", \"total_spend_90d\"],\n",
    "            keys_map={\"account_id\": \"account_id\"},\n",
    "            join_type=\"left\"\n",
    "        ),\n",
    "        # Risk scores - join on account_id\n",
    "        projection(\n",
    "            source=risk_fg,\n",
    "            features=[\"credit_score\", \"fraud_score\", \"risk_category\"],\n",
    "            keys_map={\"account_id\": \"account_id\"},\n",
    "            join_type=\"left\"\n",
    "        )\n",
    "    ],\n",
    "    description=\"Comprehensive account features with user, transaction, and risk data\"\n",
    ")\n",
    "\n",
    "# Test the comprehensive query\n",
    "result = comprehensive_fv.plan().to_pandas()\n",
    "print(f\"📋 Columns returned: {list(result.columns)}\")\n",
    "print(f\"📊 Total features: {len(result.columns)}\")\n",
    "print(f\"📈 Row count: {len(result)}\")\n",
    "\n",
    "expected_cols = {\n",
    "    'account_id', 'user_id', 'status', 'account_type', 'credit_limit',  # accounts\n",
    "    'age', 'segment', 'country', 'income_bracket',  # users\n",
    "    'avg_ticket', 'txn_cnt_90d', 'total_spend_90d',  # transactions\n",
    "    'credit_score', 'fraud_score', 'risk_category'   # risk\n",
    "}\n",
    "print(f\"✅ All expected features present: {set(result.columns) == expected_cols}\")\n",
    "\n",
    "print(\"\\n📊 Sample comprehensive data:\")\n",
    "print(result.head(3))"
   ]
  },
  {
   "cell_type": "markdown",
   "id": "16",
   "metadata": {},
   "source": [
    "## Test 3: Multiple Output Formats\n",
    "\n",
    "Demonstrate that the same feature view can output to Spark, Pandas, and Polars."
   ]
  },
  {
   "cell_type": "code",
   "execution_count": null,
   "id": "17",
   "metadata": {},
   "outputs": [],
   "source": [
    "print(\"🧪 Test 3: Multiple Output Formats\")\n",
    "print(\"=\" * 35)\n",
    "\n",
    "# Create a focused feature view for format testing\n",
    "format_test_fv = fs.get_or_create_feature_view(\n",
    "    name=\"format_test_features\", \n",
    "    version=1, \n",
    "    base=accounts_fg,\n",
    "    source_projections=[\n",
    "        projection(\n",
    "            source=accounts_fg,\n",
    "            features=[\"account_id\", \"status\", \"credit_limit\"]\n",
    "        ),\n",
    "        projection(\n",
    "            source=users_fg,\n",
    "            features=[\"age\", \"country\"],\n",
    "            keys_map={\"user_id\": \"user_id\"},\n",
    "            join_type=\"left\"\n",
    "        )\n",
    "    ]\n",
    ")\n",
    "\n",
    "query_plan = format_test_fv.plan()\n",
    "\n",
    "print(\"\\n🔥 Testing Spark DataFrame output:\")\n",
    "spark_df = query_plan.to_spark()\n",
    "print(f\"   Type: {type(spark_df)}\")\n",
    "print(f\"   Columns: {spark_df.columns}\")\n",
    "print(f\"   Count: {spark_df.count()}\")\n",
    "spark_df.show(3)\n",
    "\n",
    "print(\"\\n🐼 Testing Pandas DataFrame output:\")\n",
    "pandas_df = query_plan.to_pandas()\n",
    "print(f\"   Type: {type(pandas_df)}\")\n",
    "print(f\"   Shape: {pandas_df.shape}\")\n",
    "print(f\"   Columns: {list(pandas_df.columns)}\")\n",
    "print(pandas_df.head(3))\n",
    "\n",
    "print(\"\\n⚡ Testing Polars DataFrame output:\")\n",
    "polars_df = query_plan.to_polars()\n",
    "print(f\"   Type: {type(polars_df)}\")\n",
    "print(f\"   Shape: {polars_df.shape}\")\n",
    "print(f\"   Columns: {list(polars_df.columns)}\")\n",
    "print(polars_df.head(3))\n",
    "\n",
    "print(\"\\n✅ All output formats working correctly!\")"
   ]
  },
  {
   "cell_type": "markdown",
   "id": "18",
   "metadata": {},
   "source": [
    "## Test 4: Advanced Feature Engineering Scenario\n",
    "\n",
    "Simulate a real-world ML scenario where we need specific features for model training."
   ]
  },
  {
   "cell_type": "code",
   "execution_count": null,
   "id": "19",
   "metadata": {},
   "outputs": [],
   "source": [
    "print(\"🧪 Test 4: Advanced Feature Engineering Scenario\")\n",
    "print(\"=\" * 45)\n",
    "\n",
    "# Scenario: Create features for a credit risk model\n",
    "credit_risk_fv = fs.get_or_create_feature_view(\n",
    "    name=\"credit_risk_model_features\", \n",
    "    version=1, \n",
    "    base=accounts_fg,\n",
    "    source_projections=[\n",
    "        # Account basics\n",
    "        projection(\n",
    "            source=accounts_fg,\n",
    "            features=[\"account_id\", \"account_type\", \"credit_limit\", \"status\"]\n",
    "        ),\n",
    "        # Customer demographics for risk assessment\n",
    "        projection(\n",
    "            source=users_fg,\n",
    "            features=[\"age\", \"income_bracket\", \"country\"],\n",
    "            keys_map={\"user_id\": \"user_id\"},\n",
    "            join_type=\"left\"\n",
    "        ),\n",
    "        # Transaction behavior patterns\n",
    "        projection(\n",
    "            source=transactions_fg,\n",
    "            features=[\"txn_cnt_30d\", \"txn_cnt_90d\", \"avg_ticket\", \"total_spend_90d\", \"distinct_merchants_90d\"],\n",
    "            keys_map={\"account_id\": \"account_id\"},\n",
    "            join_type=\"left\"\n",
    "        ),\n",
    "        # Risk indicators\n",
    "        projection(\n",
    "            source=risk_fg,\n",
    "            features=[\"credit_score\", \"fraud_score\", \"risk_category\"],\n",
    "            keys_map={\"account_id\": \"account_id\"},\n",
    "            join_type=\"left\"\n",
    "        )\n",
    "    ],\n",
    "    description=\"Features for credit risk modeling\"\n",
    ")\n",
    "\n",
    "# Get features as Polars for fast processing\n",
    "ml_features = credit_risk_fv.plan().to_polars()\n",
    "\n",
    "print(f\"📊 ML Feature Set created:\")\n",
    "print(f\"   Features: {len(ml_features.columns)}\")\n",
    "print(f\"   Samples: {len(ml_features)}\")\n",
    "print(f\"   Feature names: {list(ml_features.columns)}\")\n",
    "\n",
    "print(\"\\n📈 Feature Statistics:\")\n",
    "print(ml_features.describe())\n",
    "\n",
    "print(\"\\n🎯 Ready for ML model training!\")\n",
    "print(\"\\n📋 Sample ML training data:\")\n",
    "print(ml_features.head())"
   ]
  },
  {
   "cell_type": "markdown",
   "id": "20",
   "metadata": {},
   "source": [
    "## Test 5: Performance and Query Plan Analysis\n",
    "\n",
    "Examine the underlying Spark execution plan and performance characteristics."
   ]
  },
  {
   "cell_type": "code",
   "execution_count": null,
   "id": "21",
   "metadata": {},
   "outputs": [],
   "source": [
    "print(\"🧪 Test 5: Performance and Query Plan Analysis\")\n",
    "print(\"=\" * 45)\n",
    "\n",
    "# Get the Spark DataFrame to analyze execution plan\n",
    "spark_result = comprehensive_fv.plan().to_spark()\n",
    "\n",
    "print(\"🔍 Spark Execution Plan:\")\n",
    "print(\"=\" * 25)\n",
    "spark_result.explain(True)\n",
    "\n",
    "print(\"\\n📊 Query Performance Metrics:\")\n",
    "print(f\"   Total columns: {len(spark_result.columns)}\")\n",
    "print(f\"   Total rows: {spark_result.count()}\")\n",
    "\n",
    "print(\"\\n🏗️ Data Sources Verified:\")\n",
    "print(f\"   ✅ Accounts FG exists: {accounts_fg.exists()}\")\n",
    "print(f\"   ✅ Users FG exists: {users_fg.exists()}\")\n",
    "print(f\"   ✅ Transactions FG exists: {transactions_fg.exists()}\")\n",
    "print(f\"   ✅ Risk FG exists: {risk_fg.exists()}\")\n",
    "\n",
    "print(\"\\n📋 Schema Information:\")\n",
    "spark_result.printSchema()"
   ]
  },
  {
   "cell_type": "markdown",
   "id": "22",
   "metadata": {},
   "source": [
    "## SDK Validation Summary\n",
    "\n",
    "Let's run a comprehensive validation of all SDK features."
   ]
  },
  {
   "cell_type": "code",
   "execution_count": null,
   "id": "23",
   "metadata": {},
   "outputs": [],
   "source": [
    "print(\"🏆 Feature Store SDK Validation Summary\")\n",
    "print(\"=\" * 50)\n",
    "\n",
    "# Test checklist\n",
    "tests_passed = 0\n",
    "total_tests = 0\n",
    "\n",
    "def validate_test(condition, description):\n",
    "    global tests_passed, total_tests\n",
    "    total_tests += 1\n",
    "    if condition:\n",
    "        tests_passed += 1\n",
    "        print(f\"✅ {description}\")\n",
    "    else:\n",
    "        print(f\"❌ {description}\")\n",
    "    return condition\n",
    "\n",
    "print(\"\\n📋 Core Functionality Tests:\")\n",
    "\n",
    "# Test 1: FeatureStore initialization\n",
    "validate_test(fs is not None, \"FeatureStore initialization\")\n",
    "\n",
    "# Test 2: Feature group creation with data location\n",
    "validate_test(accounts_fg.exists(), \"Feature group creation and Delta Lake storage\")\n",
    "\n",
    "# Test 3: Basic feature selection\n",
    "basic_result = basic_fv.plan().to_pandas()\n",
    "validate_test(\n",
    "    set(basic_result.columns) == {'account_id', 'status', 'account_type'},\n",
    "    \"Precise feature selection from projections\"\n",
    ")\n",
    "\n",
    "# Test 4: Multi-table automatic joins\n",
    "comp_result = comprehensive_fv.plan().to_pandas()\n",
    "validate_test(\n",
    "    len(comp_result.columns) == 16 and len(comp_result) == 6,\n",
    "    \"Multi-table automatic joins with feature selection\"\n",
    ")\n",
    "\n",
    "# Test 5: Multiple output formats\n",
    "try:\n",
    "    test_plan = format_test_fv.plan()\n",
    "    spark_out = test_plan.to_spark()\n",
    "    pandas_out = test_plan.to_pandas()\n",
    "    polars_out = test_plan.to_polars()\n",
    "    formats_work = all([\n",
    "        len(spark_out.columns) > 0,\n",
    "        len(pandas_out.columns) > 0,\n",
    "        len(polars_out.columns) > 0\n",
    "    ])\n",
    "    validate_test(formats_work, \"Multiple output formats (Spark/Pandas/Polars)\")\n",
    "except Exception as e:\n",
    "    validate_test(False, f\"Multiple output formats - Error: {e}\")\n",
    "\n",
    "# Test 6: Join key mapping\n",
    "user_joined = any('age' in col for col in comp_result.columns)\n",
    "validate_test(user_joined, \"Custom join key mapping (account.user_id -> users.user_id)\")\n",
    "\n",
    "# Test 7: Different join types\n",
    "validate_test(\n",
    "    len(comp_result) == len(accounts_data),\n",
    "    \"Left join behavior - preserves all base records\"\n",
    ")\n",
    "\n",
    "print(f\"\\n🎯 Test Results: {tests_passed}/{total_tests} passed\")\n",
    "\n",
    "if tests_passed == total_tests:\n",
    "    print(\"\\n🎉 ALL TESTS PASSED! Feature Store SDK is fully functional! 🎉\")\n",
    "    print(\"\\n✨ SDK Features Validated:\")\n",
    "    print(\"   ✅ Delta Lake storage format\")\n",
    "    print(\"   ✅ Automatic multi-table joins\")\n",
    "    print(\"   ✅ Precise feature selection via projections\")\n",
    "    print(\"   ✅ Custom join key mapping\")\n",
    "    print(\"   ✅ Multiple output formats (Spark, Pandas, Polars)\")\n",
    "    print(\"   ✅ Left/Inner join support\")\n",
    "    print(\"   ✅ Query plan execution\")\n",
    "    print(\"   ✅ Feature group management\")\n",
    "    print(\"   ✅ Feature view creation\")\n",
    "    print(\"   ✅ Simple, clean API\")\n",
    "else:\n",
    "    print(f\"\\n⚠️ {total_tests - tests_passed} tests failed. Please review the implementation.\")\n",
    "\n",
    "print(f\"\\n📊 Final Statistics:\")\n",
    "print(f\"   Feature Groups: 4\")\n",
    "print(f\"   Feature Views: 5\")\n",
    "print(f\"   Total Features Available: {sum([len(accounts_data.columns), len(users_data.columns), len(transactions_data.columns), len(risk_data.columns)])}\")\n",
    "print(f\"   Sample Records: {len(accounts_data)}\")"
   ]
  },
  {
   "cell_type": "markdown",
   "id": "24",
   "metadata": {},
   "source": [
    "## Cleanup"
   ]
  },
  {
   "cell_type": "code",
   "execution_count": null,
   "id": "25",
   "metadata": {},
   "outputs": [],
   "source": [
    "# Clean up Spark session\n",
    "spark.stop()\n",
    "print(\"🧹 Spark session stopped\")\n",
    "print(\"\\n🎊 Feature Store SDK Demo Complete! 🎊\")"
   ]
  },
  {
   "cell_type": "code",
   "execution_count": null,
   "id": "51f18c30-7400-4c22-9c84-48e9f000687e",
   "metadata": {},
   "outputs": [],
   "source": []
  },
  {
   "cell_type": "code",
   "execution_count": null,
   "id": "c04bccba-2f71-425d-89b9-b81c5aacc6ad",
   "metadata": {},
   "outputs": [],
   "source": []
  },
  {
   "cell_type": "code",
   "execution_count": null,
   "id": "a959300d-ff91-4b6f-ad27-dd6b5c6f85c5",
   "metadata": {},
   "outputs": [],
   "source": []
  }
 ],
 "metadata": {
  "kernelspec": {
   "display_name": "Python 3 (ipykernel)",
   "language": "python",
   "name": "python3"
  },
  "language_info": {
   "codemirror_mode": {
    "name": "ipython",
    "version": 3
   },
   "file_extension": ".py",
   "mimetype": "text/x-python",
   "name": "python",
   "nbconvert_exporter": "python",
   "pygments_lexer": "ipython3",
   "version": "3.9.2"
  }
 },
 "nbformat": 4,
 "nbformat_minor": 5
}
